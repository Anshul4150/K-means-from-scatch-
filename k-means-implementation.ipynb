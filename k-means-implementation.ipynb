{
 "cells": [
  {
   "cell_type": "code",
   "execution_count": 1,
   "id": "f18c79f7",
   "metadata": {
    "_cell_guid": "b1076dfc-b9ad-4769-8c92-a6c4dae69d19",
    "_uuid": "8f2839f25d086af736a60e9eeb907d3b93b6e0e5",
    "execution": {
     "iopub.execute_input": "2023-03-31T10:34:08.282319Z",
     "iopub.status.busy": "2023-03-31T10:34:08.281903Z",
     "iopub.status.idle": "2023-03-31T10:34:08.305620Z",
     "shell.execute_reply": "2023-03-31T10:34:08.304494Z"
    },
    "papermill": {
     "duration": 0.037274,
     "end_time": "2023-03-31T10:34:08.308948",
     "exception": false,
     "start_time": "2023-03-31T10:34:08.271674",
     "status": "completed"
    },
    "tags": []
   },
   "outputs": [
    {
     "name": "stdout",
     "output_type": "stream",
     "text": [
      "/kaggle/input/fifa-22-complete-player-dataset/female_players_17.csv\n",
      "/kaggle/input/fifa-22-complete-player-dataset/female_players_20.csv\n",
      "/kaggle/input/fifa-22-complete-player-dataset/players_15.csv\n",
      "/kaggle/input/fifa-22-complete-player-dataset/players_16.csv\n",
      "/kaggle/input/fifa-22-complete-player-dataset/Career Mode female player datasets - FIFA 16-22.xlsx\n",
      "/kaggle/input/fifa-22-complete-player-dataset/players_17.csv\n",
      "/kaggle/input/fifa-22-complete-player-dataset/players_18.csv\n",
      "/kaggle/input/fifa-22-complete-player-dataset/players_19.csv\n",
      "/kaggle/input/fifa-22-complete-player-dataset/female_players_16.csv\n",
      "/kaggle/input/fifa-22-complete-player-dataset/players_22.csv\n",
      "/kaggle/input/fifa-22-complete-player-dataset/female_players_18.csv\n",
      "/kaggle/input/fifa-22-complete-player-dataset/players_21.csv\n",
      "/kaggle/input/fifa-22-complete-player-dataset/female_players_19.csv\n",
      "/kaggle/input/fifa-22-complete-player-dataset/female_players_22.csv\n",
      "/kaggle/input/fifa-22-complete-player-dataset/female_players_21.csv\n",
      "/kaggle/input/fifa-22-complete-player-dataset/Career Mode player datasets - FIFA 15-22.xlsx\n",
      "/kaggle/input/fifa-22-complete-player-dataset/players_20.csv\n"
     ]
    }
   ],
   "source": [
    "# This Python 3 environment comes with many helpful analytics libraries installed\n",
    "# It is defined by the kaggle/python Docker image: https://github.com/kaggle/docker-python\n",
    "# For example, here's several helpful packages to load\n",
    "\n",
    "import numpy as np # linear algebra\n",
    "import pandas as pd # data processing, CSV file I/O (e.g. pd.read_csv)\n",
    "\n",
    "# Input data files are available in the read-only \"../input/\" directory\n",
    "# For example, running this (by clicking run or pressing Shift+Enter) will list all files under the input directory\n",
    "\n",
    "import os\n",
    "for dirname, _, filenames in os.walk('/kaggle/input'):\n",
    "    for filename in filenames:\n",
    "        print(os.path.join(dirname, filename))\n",
    "\n",
    "# You can write up to 20GB to the current directory (/kaggle/working/) that gets preserved as output when you create a version using \"Save & Run All\" \n",
    "# You can also write temporary files to /kaggle/temp/, but they won't be saved outside of the current session"
   ]
  },
  {
   "cell_type": "code",
   "execution_count": 2,
   "id": "29c59e87",
   "metadata": {
    "execution": {
     "iopub.execute_input": "2023-03-31T10:34:08.328013Z",
     "iopub.status.busy": "2023-03-31T10:34:08.327242Z",
     "iopub.status.idle": "2023-03-31T10:34:08.331974Z",
     "shell.execute_reply": "2023-03-31T10:34:08.330779Z"
    },
    "papermill": {
     "duration": 0.01666,
     "end_time": "2023-03-31T10:34:08.334589",
     "exception": false,
     "start_time": "2023-03-31T10:34:08.317929",
     "status": "completed"
    },
    "tags": []
   },
   "outputs": [],
   "source": [
    "import pandas as pd\n",
    "import numpy as np"
   ]
  },
  {
   "cell_type": "code",
   "execution_count": 3,
   "id": "ba013f5e",
   "metadata": {
    "execution": {
     "iopub.execute_input": "2023-03-31T10:34:08.351963Z",
     "iopub.status.busy": "2023-03-31T10:34:08.351154Z",
     "iopub.status.idle": "2023-03-31T10:34:09.011953Z",
     "shell.execute_reply": "2023-03-31T10:34:09.010089Z"
    },
    "papermill": {
     "duration": 0.673231,
     "end_time": "2023-03-31T10:34:09.015575",
     "exception": false,
     "start_time": "2023-03-31T10:34:08.342344",
     "status": "completed"
    },
    "tags": []
   },
   "outputs": [
    {
     "name": "stderr",
     "output_type": "stream",
     "text": [
      "/opt/conda/lib/python3.7/site-packages/IPython/core/interactiveshell.py:3553: DtypeWarning: Columns (25,108) have mixed types.Specify dtype option on import or set low_memory=False.\n",
      "  exec(code_obj, self.user_global_ns, self.user_ns)\n"
     ]
    }
   ],
   "source": [
    "players = pd.read_csv(\"/kaggle/input/fifa-22-complete-player-dataset/players_22.csv\")"
   ]
  },
  {
   "cell_type": "code",
   "execution_count": 4,
   "id": "0de26522",
   "metadata": {
    "execution": {
     "iopub.execute_input": "2023-03-31T10:34:09.032729Z",
     "iopub.status.busy": "2023-03-31T10:34:09.032310Z",
     "iopub.status.idle": "2023-03-31T10:34:09.097364Z",
     "shell.execute_reply": "2023-03-31T10:34:09.096085Z"
    },
    "papermill": {
     "duration": 0.077229,
     "end_time": "2023-03-31T10:34:09.100373",
     "exception": false,
     "start_time": "2023-03-31T10:34:09.023144",
     "status": "completed"
    },
    "tags": []
   },
   "outputs": [
    {
     "data": {
      "text/html": [
       "<div>\n",
       "<style scoped>\n",
       "    .dataframe tbody tr th:only-of-type {\n",
       "        vertical-align: middle;\n",
       "    }\n",
       "\n",
       "    .dataframe tbody tr th {\n",
       "        vertical-align: top;\n",
       "    }\n",
       "\n",
       "    .dataframe thead th {\n",
       "        text-align: right;\n",
       "    }\n",
       "</style>\n",
       "<table border=\"1\" class=\"dataframe\">\n",
       "  <thead>\n",
       "    <tr style=\"text-align: right;\">\n",
       "      <th></th>\n",
       "      <th>sofifa_id</th>\n",
       "      <th>player_url</th>\n",
       "      <th>short_name</th>\n",
       "      <th>long_name</th>\n",
       "      <th>player_positions</th>\n",
       "      <th>overall</th>\n",
       "      <th>potential</th>\n",
       "      <th>value_eur</th>\n",
       "      <th>wage_eur</th>\n",
       "      <th>age</th>\n",
       "      <th>...</th>\n",
       "      <th>lcb</th>\n",
       "      <th>cb</th>\n",
       "      <th>rcb</th>\n",
       "      <th>rb</th>\n",
       "      <th>gk</th>\n",
       "      <th>player_face_url</th>\n",
       "      <th>club_logo_url</th>\n",
       "      <th>club_flag_url</th>\n",
       "      <th>nation_logo_url</th>\n",
       "      <th>nation_flag_url</th>\n",
       "    </tr>\n",
       "  </thead>\n",
       "  <tbody>\n",
       "    <tr>\n",
       "      <th>0</th>\n",
       "      <td>158023</td>\n",
       "      <td>https://sofifa.com/player/158023/lionel-messi/...</td>\n",
       "      <td>L. Messi</td>\n",
       "      <td>Lionel Andrés Messi Cuccittini</td>\n",
       "      <td>RW, ST, CF</td>\n",
       "      <td>93</td>\n",
       "      <td>93</td>\n",
       "      <td>78000000.0</td>\n",
       "      <td>320000.0</td>\n",
       "      <td>34</td>\n",
       "      <td>...</td>\n",
       "      <td>50+3</td>\n",
       "      <td>50+3</td>\n",
       "      <td>50+3</td>\n",
       "      <td>61+3</td>\n",
       "      <td>19+3</td>\n",
       "      <td>https://cdn.sofifa.net/players/158/023/22_120.png</td>\n",
       "      <td>https://cdn.sofifa.net/teams/73/60.png</td>\n",
       "      <td>https://cdn.sofifa.net/flags/fr.png</td>\n",
       "      <td>https://cdn.sofifa.net/teams/1369/60.png</td>\n",
       "      <td>https://cdn.sofifa.net/flags/ar.png</td>\n",
       "    </tr>\n",
       "    <tr>\n",
       "      <th>1</th>\n",
       "      <td>188545</td>\n",
       "      <td>https://sofifa.com/player/188545/robert-lewand...</td>\n",
       "      <td>R. Lewandowski</td>\n",
       "      <td>Robert Lewandowski</td>\n",
       "      <td>ST</td>\n",
       "      <td>92</td>\n",
       "      <td>92</td>\n",
       "      <td>119500000.0</td>\n",
       "      <td>270000.0</td>\n",
       "      <td>32</td>\n",
       "      <td>...</td>\n",
       "      <td>60+3</td>\n",
       "      <td>60+3</td>\n",
       "      <td>60+3</td>\n",
       "      <td>61+3</td>\n",
       "      <td>19+3</td>\n",
       "      <td>https://cdn.sofifa.net/players/188/545/22_120.png</td>\n",
       "      <td>https://cdn.sofifa.net/teams/21/60.png</td>\n",
       "      <td>https://cdn.sofifa.net/flags/de.png</td>\n",
       "      <td>https://cdn.sofifa.net/teams/1353/60.png</td>\n",
       "      <td>https://cdn.sofifa.net/flags/pl.png</td>\n",
       "    </tr>\n",
       "    <tr>\n",
       "      <th>2</th>\n",
       "      <td>20801</td>\n",
       "      <td>https://sofifa.com/player/20801/c-ronaldo-dos-...</td>\n",
       "      <td>Cristiano Ronaldo</td>\n",
       "      <td>Cristiano Ronaldo dos Santos Aveiro</td>\n",
       "      <td>ST, LW</td>\n",
       "      <td>91</td>\n",
       "      <td>91</td>\n",
       "      <td>45000000.0</td>\n",
       "      <td>270000.0</td>\n",
       "      <td>36</td>\n",
       "      <td>...</td>\n",
       "      <td>53+3</td>\n",
       "      <td>53+3</td>\n",
       "      <td>53+3</td>\n",
       "      <td>60+3</td>\n",
       "      <td>20+3</td>\n",
       "      <td>https://cdn.sofifa.net/players/020/801/22_120.png</td>\n",
       "      <td>https://cdn.sofifa.net/teams/11/60.png</td>\n",
       "      <td>https://cdn.sofifa.net/flags/gb-eng.png</td>\n",
       "      <td>https://cdn.sofifa.net/teams/1354/60.png</td>\n",
       "      <td>https://cdn.sofifa.net/flags/pt.png</td>\n",
       "    </tr>\n",
       "    <tr>\n",
       "      <th>3</th>\n",
       "      <td>190871</td>\n",
       "      <td>https://sofifa.com/player/190871/neymar-da-sil...</td>\n",
       "      <td>Neymar Jr</td>\n",
       "      <td>Neymar da Silva Santos Júnior</td>\n",
       "      <td>LW, CAM</td>\n",
       "      <td>91</td>\n",
       "      <td>91</td>\n",
       "      <td>129000000.0</td>\n",
       "      <td>270000.0</td>\n",
       "      <td>29</td>\n",
       "      <td>...</td>\n",
       "      <td>50+3</td>\n",
       "      <td>50+3</td>\n",
       "      <td>50+3</td>\n",
       "      <td>62+3</td>\n",
       "      <td>20+3</td>\n",
       "      <td>https://cdn.sofifa.net/players/190/871/22_120.png</td>\n",
       "      <td>https://cdn.sofifa.net/teams/73/60.png</td>\n",
       "      <td>https://cdn.sofifa.net/flags/fr.png</td>\n",
       "      <td>NaN</td>\n",
       "      <td>https://cdn.sofifa.net/flags/br.png</td>\n",
       "    </tr>\n",
       "    <tr>\n",
       "      <th>4</th>\n",
       "      <td>192985</td>\n",
       "      <td>https://sofifa.com/player/192985/kevin-de-bruy...</td>\n",
       "      <td>K. De Bruyne</td>\n",
       "      <td>Kevin De Bruyne</td>\n",
       "      <td>CM, CAM</td>\n",
       "      <td>91</td>\n",
       "      <td>91</td>\n",
       "      <td>125500000.0</td>\n",
       "      <td>350000.0</td>\n",
       "      <td>30</td>\n",
       "      <td>...</td>\n",
       "      <td>69+3</td>\n",
       "      <td>69+3</td>\n",
       "      <td>69+3</td>\n",
       "      <td>75+3</td>\n",
       "      <td>21+3</td>\n",
       "      <td>https://cdn.sofifa.net/players/192/985/22_120.png</td>\n",
       "      <td>https://cdn.sofifa.net/teams/10/60.png</td>\n",
       "      <td>https://cdn.sofifa.net/flags/gb-eng.png</td>\n",
       "      <td>https://cdn.sofifa.net/teams/1325/60.png</td>\n",
       "      <td>https://cdn.sofifa.net/flags/be.png</td>\n",
       "    </tr>\n",
       "    <tr>\n",
       "      <th>...</th>\n",
       "      <td>...</td>\n",
       "      <td>...</td>\n",
       "      <td>...</td>\n",
       "      <td>...</td>\n",
       "      <td>...</td>\n",
       "      <td>...</td>\n",
       "      <td>...</td>\n",
       "      <td>...</td>\n",
       "      <td>...</td>\n",
       "      <td>...</td>\n",
       "      <td>...</td>\n",
       "      <td>...</td>\n",
       "      <td>...</td>\n",
       "      <td>...</td>\n",
       "      <td>...</td>\n",
       "      <td>...</td>\n",
       "      <td>...</td>\n",
       "      <td>...</td>\n",
       "      <td>...</td>\n",
       "      <td>...</td>\n",
       "      <td>...</td>\n",
       "    </tr>\n",
       "    <tr>\n",
       "      <th>19234</th>\n",
       "      <td>261962</td>\n",
       "      <td>https://sofifa.com/player/261962/defu-song/220002</td>\n",
       "      <td>Song Defu</td>\n",
       "      <td>宋德福</td>\n",
       "      <td>CDM</td>\n",
       "      <td>47</td>\n",
       "      <td>52</td>\n",
       "      <td>70000.0</td>\n",
       "      <td>1000.0</td>\n",
       "      <td>22</td>\n",
       "      <td>...</td>\n",
       "      <td>46+2</td>\n",
       "      <td>46+2</td>\n",
       "      <td>46+2</td>\n",
       "      <td>48+2</td>\n",
       "      <td>15+2</td>\n",
       "      <td>https://cdn.sofifa.net/players/261/962/22_120.png</td>\n",
       "      <td>https://cdn.sofifa.net/teams/112541/60.png</td>\n",
       "      <td>https://cdn.sofifa.net/flags/cn.png</td>\n",
       "      <td>NaN</td>\n",
       "      <td>https://cdn.sofifa.net/flags/cn.png</td>\n",
       "    </tr>\n",
       "    <tr>\n",
       "      <th>19235</th>\n",
       "      <td>262040</td>\n",
       "      <td>https://sofifa.com/player/262040/caoimhin-port...</td>\n",
       "      <td>C. Porter</td>\n",
       "      <td>Caoimhin Porter</td>\n",
       "      <td>CM</td>\n",
       "      <td>47</td>\n",
       "      <td>59</td>\n",
       "      <td>110000.0</td>\n",
       "      <td>500.0</td>\n",
       "      <td>19</td>\n",
       "      <td>...</td>\n",
       "      <td>44+2</td>\n",
       "      <td>44+2</td>\n",
       "      <td>44+2</td>\n",
       "      <td>48+2</td>\n",
       "      <td>14+2</td>\n",
       "      <td>https://cdn.sofifa.net/players/262/040/22_120.png</td>\n",
       "      <td>https://cdn.sofifa.net/teams/445/60.png</td>\n",
       "      <td>https://cdn.sofifa.net/flags/ie.png</td>\n",
       "      <td>NaN</td>\n",
       "      <td>https://cdn.sofifa.net/flags/ie.png</td>\n",
       "    </tr>\n",
       "    <tr>\n",
       "      <th>19236</th>\n",
       "      <td>262760</td>\n",
       "      <td>https://sofifa.com/player/262760/nathan-logue/...</td>\n",
       "      <td>N. Logue</td>\n",
       "      <td>Nathan Logue-Cunningham</td>\n",
       "      <td>CM</td>\n",
       "      <td>47</td>\n",
       "      <td>55</td>\n",
       "      <td>100000.0</td>\n",
       "      <td>500.0</td>\n",
       "      <td>21</td>\n",
       "      <td>...</td>\n",
       "      <td>45+2</td>\n",
       "      <td>45+2</td>\n",
       "      <td>45+2</td>\n",
       "      <td>47+2</td>\n",
       "      <td>12+2</td>\n",
       "      <td>https://cdn.sofifa.net/players/262/760/22_120.png</td>\n",
       "      <td>https://cdn.sofifa.net/teams/111131/60.png</td>\n",
       "      <td>https://cdn.sofifa.net/flags/ie.png</td>\n",
       "      <td>NaN</td>\n",
       "      <td>https://cdn.sofifa.net/flags/ie.png</td>\n",
       "    </tr>\n",
       "    <tr>\n",
       "      <th>19237</th>\n",
       "      <td>262820</td>\n",
       "      <td>https://sofifa.com/player/262820/luke-rudden/2...</td>\n",
       "      <td>L. Rudden</td>\n",
       "      <td>Luke Rudden</td>\n",
       "      <td>ST</td>\n",
       "      <td>47</td>\n",
       "      <td>60</td>\n",
       "      <td>110000.0</td>\n",
       "      <td>500.0</td>\n",
       "      <td>19</td>\n",
       "      <td>...</td>\n",
       "      <td>26+2</td>\n",
       "      <td>26+2</td>\n",
       "      <td>26+2</td>\n",
       "      <td>32+2</td>\n",
       "      <td>15+2</td>\n",
       "      <td>https://cdn.sofifa.net/players/262/820/22_120.png</td>\n",
       "      <td>https://cdn.sofifa.net/teams/111131/60.png</td>\n",
       "      <td>https://cdn.sofifa.net/flags/ie.png</td>\n",
       "      <td>NaN</td>\n",
       "      <td>https://cdn.sofifa.net/flags/ie.png</td>\n",
       "    </tr>\n",
       "    <tr>\n",
       "      <th>19238</th>\n",
       "      <td>264540</td>\n",
       "      <td>https://sofifa.com/player/264540/emanuel-lalch...</td>\n",
       "      <td>E. Lalchhanchhuaha</td>\n",
       "      <td>Emanuel Lalchhanchhuaha</td>\n",
       "      <td>CAM</td>\n",
       "      <td>47</td>\n",
       "      <td>60</td>\n",
       "      <td>110000.0</td>\n",
       "      <td>500.0</td>\n",
       "      <td>19</td>\n",
       "      <td>...</td>\n",
       "      <td>41+2</td>\n",
       "      <td>41+2</td>\n",
       "      <td>41+2</td>\n",
       "      <td>45+2</td>\n",
       "      <td>16+2</td>\n",
       "      <td>https://cdn.sofifa.net/players/264/540/22_120.png</td>\n",
       "      <td>https://cdn.sofifa.net/teams/113040/60.png</td>\n",
       "      <td>https://cdn.sofifa.net/flags/in.png</td>\n",
       "      <td>NaN</td>\n",
       "      <td>https://cdn.sofifa.net/flags/in.png</td>\n",
       "    </tr>\n",
       "  </tbody>\n",
       "</table>\n",
       "<p>19239 rows × 110 columns</p>\n",
       "</div>"
      ],
      "text/plain": [
       "       sofifa_id                                         player_url  \\\n",
       "0         158023  https://sofifa.com/player/158023/lionel-messi/...   \n",
       "1         188545  https://sofifa.com/player/188545/robert-lewand...   \n",
       "2          20801  https://sofifa.com/player/20801/c-ronaldo-dos-...   \n",
       "3         190871  https://sofifa.com/player/190871/neymar-da-sil...   \n",
       "4         192985  https://sofifa.com/player/192985/kevin-de-bruy...   \n",
       "...          ...                                                ...   \n",
       "19234     261962  https://sofifa.com/player/261962/defu-song/220002   \n",
       "19235     262040  https://sofifa.com/player/262040/caoimhin-port...   \n",
       "19236     262760  https://sofifa.com/player/262760/nathan-logue/...   \n",
       "19237     262820  https://sofifa.com/player/262820/luke-rudden/2...   \n",
       "19238     264540  https://sofifa.com/player/264540/emanuel-lalch...   \n",
       "\n",
       "               short_name                            long_name  \\\n",
       "0                L. Messi       Lionel Andrés Messi Cuccittini   \n",
       "1          R. Lewandowski                   Robert Lewandowski   \n",
       "2       Cristiano Ronaldo  Cristiano Ronaldo dos Santos Aveiro   \n",
       "3               Neymar Jr        Neymar da Silva Santos Júnior   \n",
       "4            K. De Bruyne                      Kevin De Bruyne   \n",
       "...                   ...                                  ...   \n",
       "19234           Song Defu                                  宋德福   \n",
       "19235           C. Porter                      Caoimhin Porter   \n",
       "19236            N. Logue              Nathan Logue-Cunningham   \n",
       "19237           L. Rudden                          Luke Rudden   \n",
       "19238  E. Lalchhanchhuaha              Emanuel Lalchhanchhuaha   \n",
       "\n",
       "      player_positions  overall  potential    value_eur  wage_eur  age  ...  \\\n",
       "0           RW, ST, CF       93         93   78000000.0  320000.0   34  ...   \n",
       "1                   ST       92         92  119500000.0  270000.0   32  ...   \n",
       "2               ST, LW       91         91   45000000.0  270000.0   36  ...   \n",
       "3              LW, CAM       91         91  129000000.0  270000.0   29  ...   \n",
       "4              CM, CAM       91         91  125500000.0  350000.0   30  ...   \n",
       "...                ...      ...        ...          ...       ...  ...  ...   \n",
       "19234              CDM       47         52      70000.0    1000.0   22  ...   \n",
       "19235               CM       47         59     110000.0     500.0   19  ...   \n",
       "19236               CM       47         55     100000.0     500.0   21  ...   \n",
       "19237               ST       47         60     110000.0     500.0   19  ...   \n",
       "19238              CAM       47         60     110000.0     500.0   19  ...   \n",
       "\n",
       "        lcb    cb   rcb    rb    gk  \\\n",
       "0      50+3  50+3  50+3  61+3  19+3   \n",
       "1      60+3  60+3  60+3  61+3  19+3   \n",
       "2      53+3  53+3  53+3  60+3  20+3   \n",
       "3      50+3  50+3  50+3  62+3  20+3   \n",
       "4      69+3  69+3  69+3  75+3  21+3   \n",
       "...     ...   ...   ...   ...   ...   \n",
       "19234  46+2  46+2  46+2  48+2  15+2   \n",
       "19235  44+2  44+2  44+2  48+2  14+2   \n",
       "19236  45+2  45+2  45+2  47+2  12+2   \n",
       "19237  26+2  26+2  26+2  32+2  15+2   \n",
       "19238  41+2  41+2  41+2  45+2  16+2   \n",
       "\n",
       "                                         player_face_url  \\\n",
       "0      https://cdn.sofifa.net/players/158/023/22_120.png   \n",
       "1      https://cdn.sofifa.net/players/188/545/22_120.png   \n",
       "2      https://cdn.sofifa.net/players/020/801/22_120.png   \n",
       "3      https://cdn.sofifa.net/players/190/871/22_120.png   \n",
       "4      https://cdn.sofifa.net/players/192/985/22_120.png   \n",
       "...                                                  ...   \n",
       "19234  https://cdn.sofifa.net/players/261/962/22_120.png   \n",
       "19235  https://cdn.sofifa.net/players/262/040/22_120.png   \n",
       "19236  https://cdn.sofifa.net/players/262/760/22_120.png   \n",
       "19237  https://cdn.sofifa.net/players/262/820/22_120.png   \n",
       "19238  https://cdn.sofifa.net/players/264/540/22_120.png   \n",
       "\n",
       "                                    club_logo_url  \\\n",
       "0          https://cdn.sofifa.net/teams/73/60.png   \n",
       "1          https://cdn.sofifa.net/teams/21/60.png   \n",
       "2          https://cdn.sofifa.net/teams/11/60.png   \n",
       "3          https://cdn.sofifa.net/teams/73/60.png   \n",
       "4          https://cdn.sofifa.net/teams/10/60.png   \n",
       "...                                           ...   \n",
       "19234  https://cdn.sofifa.net/teams/112541/60.png   \n",
       "19235     https://cdn.sofifa.net/teams/445/60.png   \n",
       "19236  https://cdn.sofifa.net/teams/111131/60.png   \n",
       "19237  https://cdn.sofifa.net/teams/111131/60.png   \n",
       "19238  https://cdn.sofifa.net/teams/113040/60.png   \n",
       "\n",
       "                                 club_flag_url  \\\n",
       "0          https://cdn.sofifa.net/flags/fr.png   \n",
       "1          https://cdn.sofifa.net/flags/de.png   \n",
       "2      https://cdn.sofifa.net/flags/gb-eng.png   \n",
       "3          https://cdn.sofifa.net/flags/fr.png   \n",
       "4      https://cdn.sofifa.net/flags/gb-eng.png   \n",
       "...                                        ...   \n",
       "19234      https://cdn.sofifa.net/flags/cn.png   \n",
       "19235      https://cdn.sofifa.net/flags/ie.png   \n",
       "19236      https://cdn.sofifa.net/flags/ie.png   \n",
       "19237      https://cdn.sofifa.net/flags/ie.png   \n",
       "19238      https://cdn.sofifa.net/flags/in.png   \n",
       "\n",
       "                                nation_logo_url  \\\n",
       "0      https://cdn.sofifa.net/teams/1369/60.png   \n",
       "1      https://cdn.sofifa.net/teams/1353/60.png   \n",
       "2      https://cdn.sofifa.net/teams/1354/60.png   \n",
       "3                                           NaN   \n",
       "4      https://cdn.sofifa.net/teams/1325/60.png   \n",
       "...                                         ...   \n",
       "19234                                       NaN   \n",
       "19235                                       NaN   \n",
       "19236                                       NaN   \n",
       "19237                                       NaN   \n",
       "19238                                       NaN   \n",
       "\n",
       "                           nation_flag_url  \n",
       "0      https://cdn.sofifa.net/flags/ar.png  \n",
       "1      https://cdn.sofifa.net/flags/pl.png  \n",
       "2      https://cdn.sofifa.net/flags/pt.png  \n",
       "3      https://cdn.sofifa.net/flags/br.png  \n",
       "4      https://cdn.sofifa.net/flags/be.png  \n",
       "...                                    ...  \n",
       "19234  https://cdn.sofifa.net/flags/cn.png  \n",
       "19235  https://cdn.sofifa.net/flags/ie.png  \n",
       "19236  https://cdn.sofifa.net/flags/ie.png  \n",
       "19237  https://cdn.sofifa.net/flags/ie.png  \n",
       "19238  https://cdn.sofifa.net/flags/in.png  \n",
       "\n",
       "[19239 rows x 110 columns]"
      ]
     },
     "execution_count": 4,
     "metadata": {},
     "output_type": "execute_result"
    }
   ],
   "source": [
    "players\n"
   ]
  },
  {
   "cell_type": "code",
   "execution_count": 5,
   "id": "c149eee5",
   "metadata": {
    "execution": {
     "iopub.execute_input": "2023-03-31T10:34:09.118938Z",
     "iopub.status.busy": "2023-03-31T10:34:09.118502Z",
     "iopub.status.idle": "2023-03-31T10:34:09.123841Z",
     "shell.execute_reply": "2023-03-31T10:34:09.122616Z"
    },
    "papermill": {
     "duration": 0.017921,
     "end_time": "2023-03-31T10:34:09.126470",
     "exception": false,
     "start_time": "2023-03-31T10:34:09.108549",
     "status": "completed"
    },
    "tags": []
   },
   "outputs": [],
   "source": [
    "features = [\"overall\",\"potential\",\"wage_eur\",\"value_eur\",\"age\"]"
   ]
  },
  {
   "cell_type": "code",
   "execution_count": 6,
   "id": "ab7f11ec",
   "metadata": {
    "execution": {
     "iopub.execute_input": "2023-03-31T10:34:09.145409Z",
     "iopub.status.busy": "2023-03-31T10:34:09.144296Z",
     "iopub.status.idle": "2023-03-31T10:34:09.174744Z",
     "shell.execute_reply": "2023-03-31T10:34:09.173293Z"
    },
    "papermill": {
     "duration": 0.043261,
     "end_time": "2023-03-31T10:34:09.178037",
     "exception": false,
     "start_time": "2023-03-31T10:34:09.134776",
     "status": "completed"
    },
    "tags": []
   },
   "outputs": [],
   "source": [
    "players = players.dropna(subset=features)"
   ]
  },
  {
   "cell_type": "code",
   "execution_count": 7,
   "id": "09decc97",
   "metadata": {
    "execution": {
     "iopub.execute_input": "2023-03-31T10:34:09.196913Z",
     "iopub.status.busy": "2023-03-31T10:34:09.196463Z",
     "iopub.status.idle": "2023-03-31T10:34:09.203943Z",
     "shell.execute_reply": "2023-03-31T10:34:09.202664Z"
    },
    "papermill": {
     "duration": 0.020208,
     "end_time": "2023-03-31T10:34:09.206572",
     "exception": false,
     "start_time": "2023-03-31T10:34:09.186364",
     "status": "completed"
    },
    "tags": []
   },
   "outputs": [],
   "source": [
    "data = players[features].copy()"
   ]
  },
  {
   "cell_type": "code",
   "execution_count": 8,
   "id": "18306788",
   "metadata": {
    "execution": {
     "iopub.execute_input": "2023-03-31T10:34:09.224853Z",
     "iopub.status.busy": "2023-03-31T10:34:09.224410Z",
     "iopub.status.idle": "2023-03-31T10:34:09.242366Z",
     "shell.execute_reply": "2023-03-31T10:34:09.240954Z"
    },
    "papermill": {
     "duration": 0.030245,
     "end_time": "2023-03-31T10:34:09.244901",
     "exception": false,
     "start_time": "2023-03-31T10:34:09.214656",
     "status": "completed"
    },
    "tags": []
   },
   "outputs": [
    {
     "data": {
      "text/html": [
       "<div>\n",
       "<style scoped>\n",
       "    .dataframe tbody tr th:only-of-type {\n",
       "        vertical-align: middle;\n",
       "    }\n",
       "\n",
       "    .dataframe tbody tr th {\n",
       "        vertical-align: top;\n",
       "    }\n",
       "\n",
       "    .dataframe thead th {\n",
       "        text-align: right;\n",
       "    }\n",
       "</style>\n",
       "<table border=\"1\" class=\"dataframe\">\n",
       "  <thead>\n",
       "    <tr style=\"text-align: right;\">\n",
       "      <th></th>\n",
       "      <th>overall</th>\n",
       "      <th>potential</th>\n",
       "      <th>wage_eur</th>\n",
       "      <th>value_eur</th>\n",
       "      <th>age</th>\n",
       "    </tr>\n",
       "  </thead>\n",
       "  <tbody>\n",
       "    <tr>\n",
       "      <th>0</th>\n",
       "      <td>93</td>\n",
       "      <td>93</td>\n",
       "      <td>320000.0</td>\n",
       "      <td>78000000.0</td>\n",
       "      <td>34</td>\n",
       "    </tr>\n",
       "    <tr>\n",
       "      <th>1</th>\n",
       "      <td>92</td>\n",
       "      <td>92</td>\n",
       "      <td>270000.0</td>\n",
       "      <td>119500000.0</td>\n",
       "      <td>32</td>\n",
       "    </tr>\n",
       "    <tr>\n",
       "      <th>2</th>\n",
       "      <td>91</td>\n",
       "      <td>91</td>\n",
       "      <td>270000.0</td>\n",
       "      <td>45000000.0</td>\n",
       "      <td>36</td>\n",
       "    </tr>\n",
       "    <tr>\n",
       "      <th>3</th>\n",
       "      <td>91</td>\n",
       "      <td>91</td>\n",
       "      <td>270000.0</td>\n",
       "      <td>129000000.0</td>\n",
       "      <td>29</td>\n",
       "    </tr>\n",
       "    <tr>\n",
       "      <th>4</th>\n",
       "      <td>91</td>\n",
       "      <td>91</td>\n",
       "      <td>350000.0</td>\n",
       "      <td>125500000.0</td>\n",
       "      <td>30</td>\n",
       "    </tr>\n",
       "    <tr>\n",
       "      <th>...</th>\n",
       "      <td>...</td>\n",
       "      <td>...</td>\n",
       "      <td>...</td>\n",
       "      <td>...</td>\n",
       "      <td>...</td>\n",
       "    </tr>\n",
       "    <tr>\n",
       "      <th>19234</th>\n",
       "      <td>47</td>\n",
       "      <td>52</td>\n",
       "      <td>1000.0</td>\n",
       "      <td>70000.0</td>\n",
       "      <td>22</td>\n",
       "    </tr>\n",
       "    <tr>\n",
       "      <th>19235</th>\n",
       "      <td>47</td>\n",
       "      <td>59</td>\n",
       "      <td>500.0</td>\n",
       "      <td>110000.0</td>\n",
       "      <td>19</td>\n",
       "    </tr>\n",
       "    <tr>\n",
       "      <th>19236</th>\n",
       "      <td>47</td>\n",
       "      <td>55</td>\n",
       "      <td>500.0</td>\n",
       "      <td>100000.0</td>\n",
       "      <td>21</td>\n",
       "    </tr>\n",
       "    <tr>\n",
       "      <th>19237</th>\n",
       "      <td>47</td>\n",
       "      <td>60</td>\n",
       "      <td>500.0</td>\n",
       "      <td>110000.0</td>\n",
       "      <td>19</td>\n",
       "    </tr>\n",
       "    <tr>\n",
       "      <th>19238</th>\n",
       "      <td>47</td>\n",
       "      <td>60</td>\n",
       "      <td>500.0</td>\n",
       "      <td>110000.0</td>\n",
       "      <td>19</td>\n",
       "    </tr>\n",
       "  </tbody>\n",
       "</table>\n",
       "<p>19165 rows × 5 columns</p>\n",
       "</div>"
      ],
      "text/plain": [
       "       overall  potential  wage_eur    value_eur  age\n",
       "0           93         93  320000.0   78000000.0   34\n",
       "1           92         92  270000.0  119500000.0   32\n",
       "2           91         91  270000.0   45000000.0   36\n",
       "3           91         91  270000.0  129000000.0   29\n",
       "4           91         91  350000.0  125500000.0   30\n",
       "...        ...        ...       ...          ...  ...\n",
       "19234       47         52    1000.0      70000.0   22\n",
       "19235       47         59     500.0     110000.0   19\n",
       "19236       47         55     500.0     100000.0   21\n",
       "19237       47         60     500.0     110000.0   19\n",
       "19238       47         60     500.0     110000.0   19\n",
       "\n",
       "[19165 rows x 5 columns]"
      ]
     },
     "execution_count": 8,
     "metadata": {},
     "output_type": "execute_result"
    }
   ],
   "source": [
    "data\n"
   ]
  },
  {
   "cell_type": "markdown",
   "id": "2fc8c104",
   "metadata": {
    "papermill": {
     "duration": 0.008066,
     "end_time": "2023-03-31T10:34:09.261432",
     "exception": false,
     "start_time": "2023-03-31T10:34:09.253366",
     "status": "completed"
    },
    "tags": []
   },
   "source": [
    "1. Scale the data\n",
    "2. Initialize random centroids\n",
    "3. Label each data point\n",
    "4. update centriods\n",
    "5. repeat steps 3 and 4 until centriods stop changing"
   ]
  },
  {
   "cell_type": "code",
   "execution_count": 9,
   "id": "ccae1782",
   "metadata": {
    "execution": {
     "iopub.execute_input": "2023-03-31T10:34:09.280828Z",
     "iopub.status.busy": "2023-03-31T10:34:09.280319Z",
     "iopub.status.idle": "2023-03-31T10:34:09.293005Z",
     "shell.execute_reply": "2023-03-31T10:34:09.291439Z"
    },
    "papermill": {
     "duration": 0.025609,
     "end_time": "2023-03-31T10:34:09.295798",
     "exception": false,
     "start_time": "2023-03-31T10:34:09.270189",
     "status": "completed"
    },
    "tags": []
   },
   "outputs": [],
   "source": [
    "# min max scaling \n",
    "data = (((data-data.min()))/ (data.max()-data.min()))*9 + 1"
   ]
  },
  {
   "cell_type": "code",
   "execution_count": 10,
   "id": "2fbfb4ef",
   "metadata": {
    "execution": {
     "iopub.execute_input": "2023-03-31T10:34:09.315847Z",
     "iopub.status.busy": "2023-03-31T10:34:09.315288Z",
     "iopub.status.idle": "2023-03-31T10:34:09.333981Z",
     "shell.execute_reply": "2023-03-31T10:34:09.332422Z"
    },
    "papermill": {
     "duration": 0.031654,
     "end_time": "2023-03-31T10:34:09.336849",
     "exception": false,
     "start_time": "2023-03-31T10:34:09.305195",
     "status": "completed"
    },
    "tags": []
   },
   "outputs": [
    {
     "data": {
      "text/html": [
       "<div>\n",
       "<style scoped>\n",
       "    .dataframe tbody tr th:only-of-type {\n",
       "        vertical-align: middle;\n",
       "    }\n",
       "\n",
       "    .dataframe tbody tr th {\n",
       "        vertical-align: top;\n",
       "    }\n",
       "\n",
       "    .dataframe thead th {\n",
       "        text-align: right;\n",
       "    }\n",
       "</style>\n",
       "<table border=\"1\" class=\"dataframe\">\n",
       "  <thead>\n",
       "    <tr style=\"text-align: right;\">\n",
       "      <th></th>\n",
       "      <th>overall</th>\n",
       "      <th>potential</th>\n",
       "      <th>wage_eur</th>\n",
       "      <th>value_eur</th>\n",
       "      <th>age</th>\n",
       "    </tr>\n",
       "  </thead>\n",
       "  <tbody>\n",
       "    <tr>\n",
       "      <th>0</th>\n",
       "      <td>10.000000</td>\n",
       "      <td>9.608696</td>\n",
       "      <td>9.227468</td>\n",
       "      <td>4.618307</td>\n",
       "      <td>7.000000</td>\n",
       "    </tr>\n",
       "    <tr>\n",
       "      <th>1</th>\n",
       "      <td>9.804348</td>\n",
       "      <td>9.413043</td>\n",
       "      <td>7.939914</td>\n",
       "      <td>6.543654</td>\n",
       "      <td>6.333333</td>\n",
       "    </tr>\n",
       "    <tr>\n",
       "      <th>2</th>\n",
       "      <td>9.608696</td>\n",
       "      <td>9.217391</td>\n",
       "      <td>7.939914</td>\n",
       "      <td>3.087308</td>\n",
       "      <td>7.666667</td>\n",
       "    </tr>\n",
       "    <tr>\n",
       "      <th>3</th>\n",
       "      <td>9.608696</td>\n",
       "      <td>9.217391</td>\n",
       "      <td>7.939914</td>\n",
       "      <td>6.984396</td>\n",
       "      <td>5.333333</td>\n",
       "    </tr>\n",
       "    <tr>\n",
       "      <th>4</th>\n",
       "      <td>9.608696</td>\n",
       "      <td>9.217391</td>\n",
       "      <td>10.000000</td>\n",
       "      <td>6.822018</td>\n",
       "      <td>5.666667</td>\n",
       "    </tr>\n",
       "    <tr>\n",
       "      <th>...</th>\n",
       "      <td>...</td>\n",
       "      <td>...</td>\n",
       "      <td>...</td>\n",
       "      <td>...</td>\n",
       "      <td>...</td>\n",
       "    </tr>\n",
       "    <tr>\n",
       "      <th>19234</th>\n",
       "      <td>1.000000</td>\n",
       "      <td>1.586957</td>\n",
       "      <td>1.012876</td>\n",
       "      <td>1.002830</td>\n",
       "      <td>3.000000</td>\n",
       "    </tr>\n",
       "    <tr>\n",
       "      <th>19235</th>\n",
       "      <td>1.000000</td>\n",
       "      <td>2.956522</td>\n",
       "      <td>1.000000</td>\n",
       "      <td>1.004686</td>\n",
       "      <td>2.000000</td>\n",
       "    </tr>\n",
       "    <tr>\n",
       "      <th>19236</th>\n",
       "      <td>1.000000</td>\n",
       "      <td>2.173913</td>\n",
       "      <td>1.000000</td>\n",
       "      <td>1.004222</td>\n",
       "      <td>2.666667</td>\n",
       "    </tr>\n",
       "    <tr>\n",
       "      <th>19237</th>\n",
       "      <td>1.000000</td>\n",
       "      <td>3.152174</td>\n",
       "      <td>1.000000</td>\n",
       "      <td>1.004686</td>\n",
       "      <td>2.000000</td>\n",
       "    </tr>\n",
       "    <tr>\n",
       "      <th>19238</th>\n",
       "      <td>1.000000</td>\n",
       "      <td>3.152174</td>\n",
       "      <td>1.000000</td>\n",
       "      <td>1.004686</td>\n",
       "      <td>2.000000</td>\n",
       "    </tr>\n",
       "  </tbody>\n",
       "</table>\n",
       "<p>19165 rows × 5 columns</p>\n",
       "</div>"
      ],
      "text/plain": [
       "         overall  potential   wage_eur  value_eur       age\n",
       "0      10.000000   9.608696   9.227468   4.618307  7.000000\n",
       "1       9.804348   9.413043   7.939914   6.543654  6.333333\n",
       "2       9.608696   9.217391   7.939914   3.087308  7.666667\n",
       "3       9.608696   9.217391   7.939914   6.984396  5.333333\n",
       "4       9.608696   9.217391  10.000000   6.822018  5.666667\n",
       "...          ...        ...        ...        ...       ...\n",
       "19234   1.000000   1.586957   1.012876   1.002830  3.000000\n",
       "19235   1.000000   2.956522   1.000000   1.004686  2.000000\n",
       "19236   1.000000   2.173913   1.000000   1.004222  2.666667\n",
       "19237   1.000000   3.152174   1.000000   1.004686  2.000000\n",
       "19238   1.000000   3.152174   1.000000   1.004686  2.000000\n",
       "\n",
       "[19165 rows x 5 columns]"
      ]
     },
     "execution_count": 10,
     "metadata": {},
     "output_type": "execute_result"
    }
   ],
   "source": [
    "data\n"
   ]
  },
  {
   "cell_type": "code",
   "execution_count": 11,
   "id": "7d40871f",
   "metadata": {
    "execution": {
     "iopub.execute_input": "2023-03-31T10:34:09.357096Z",
     "iopub.status.busy": "2023-03-31T10:34:09.356629Z",
     "iopub.status.idle": "2023-03-31T10:34:09.398771Z",
     "shell.execute_reply": "2023-03-31T10:34:09.397095Z"
    },
    "papermill": {
     "duration": 0.056166,
     "end_time": "2023-03-31T10:34:09.401727",
     "exception": false,
     "start_time": "2023-03-31T10:34:09.345561",
     "status": "completed"
    },
    "tags": []
   },
   "outputs": [
    {
     "data": {
      "text/html": [
       "<div>\n",
       "<style scoped>\n",
       "    .dataframe tbody tr th:only-of-type {\n",
       "        vertical-align: middle;\n",
       "    }\n",
       "\n",
       "    .dataframe tbody tr th {\n",
       "        vertical-align: top;\n",
       "    }\n",
       "\n",
       "    .dataframe thead th {\n",
       "        text-align: right;\n",
       "    }\n",
       "</style>\n",
       "<table border=\"1\" class=\"dataframe\">\n",
       "  <thead>\n",
       "    <tr style=\"text-align: right;\">\n",
       "      <th></th>\n",
       "      <th>overall</th>\n",
       "      <th>potential</th>\n",
       "      <th>wage_eur</th>\n",
       "      <th>value_eur</th>\n",
       "      <th>age</th>\n",
       "    </tr>\n",
       "  </thead>\n",
       "  <tbody>\n",
       "    <tr>\n",
       "      <th>count</th>\n",
       "      <td>19165.000000</td>\n",
       "      <td>19165.000000</td>\n",
       "      <td>19165.000000</td>\n",
       "      <td>19165.000000</td>\n",
       "      <td>19165.000000</td>\n",
       "    </tr>\n",
       "    <tr>\n",
       "      <th>mean</th>\n",
       "      <td>4.670472</td>\n",
       "      <td>5.319998</td>\n",
       "      <td>1.219443</td>\n",
       "      <td>1.131826</td>\n",
       "      <td>4.063345</td>\n",
       "    </tr>\n",
       "    <tr>\n",
       "      <th>std</th>\n",
       "      <td>1.346635</td>\n",
       "      <td>1.191076</td>\n",
       "      <td>0.501528</td>\n",
       "      <td>0.353229</td>\n",
       "      <td>1.575838</td>\n",
       "    </tr>\n",
       "    <tr>\n",
       "      <th>min</th>\n",
       "      <td>1.000000</td>\n",
       "      <td>1.000000</td>\n",
       "      <td>1.000000</td>\n",
       "      <td>1.000000</td>\n",
       "      <td>1.000000</td>\n",
       "    </tr>\n",
       "    <tr>\n",
       "      <th>25%</th>\n",
       "      <td>3.739130</td>\n",
       "      <td>4.521739</td>\n",
       "      <td>1.012876</td>\n",
       "      <td>1.021620</td>\n",
       "      <td>2.666667</td>\n",
       "    </tr>\n",
       "    <tr>\n",
       "      <th>50%</th>\n",
       "      <td>4.717391</td>\n",
       "      <td>5.304348</td>\n",
       "      <td>1.064378</td>\n",
       "      <td>1.044817</td>\n",
       "      <td>4.000000</td>\n",
       "    </tr>\n",
       "    <tr>\n",
       "      <th>75%</th>\n",
       "      <td>5.500000</td>\n",
       "      <td>6.086957</td>\n",
       "      <td>1.193133</td>\n",
       "      <td>1.092370</td>\n",
       "      <td>5.333333</td>\n",
       "    </tr>\n",
       "    <tr>\n",
       "      <th>max</th>\n",
       "      <td>10.000000</td>\n",
       "      <td>10.000000</td>\n",
       "      <td>10.000000</td>\n",
       "      <td>10.000000</td>\n",
       "      <td>10.000000</td>\n",
       "    </tr>\n",
       "  </tbody>\n",
       "</table>\n",
       "</div>"
      ],
      "text/plain": [
       "            overall     potential      wage_eur     value_eur           age\n",
       "count  19165.000000  19165.000000  19165.000000  19165.000000  19165.000000\n",
       "mean       4.670472      5.319998      1.219443      1.131826      4.063345\n",
       "std        1.346635      1.191076      0.501528      0.353229      1.575838\n",
       "min        1.000000      1.000000      1.000000      1.000000      1.000000\n",
       "25%        3.739130      4.521739      1.012876      1.021620      2.666667\n",
       "50%        4.717391      5.304348      1.064378      1.044817      4.000000\n",
       "75%        5.500000      6.086957      1.193133      1.092370      5.333333\n",
       "max       10.000000     10.000000     10.000000     10.000000     10.000000"
      ]
     },
     "execution_count": 11,
     "metadata": {},
     "output_type": "execute_result"
    }
   ],
   "source": [
    "data.describe()"
   ]
  },
  {
   "cell_type": "code",
   "execution_count": 12,
   "id": "3d027a8d",
   "metadata": {
    "execution": {
     "iopub.execute_input": "2023-03-31T10:34:09.422128Z",
     "iopub.status.busy": "2023-03-31T10:34:09.421303Z",
     "iopub.status.idle": "2023-03-31T10:34:09.435858Z",
     "shell.execute_reply": "2023-03-31T10:34:09.434401Z"
    },
    "papermill": {
     "duration": 0.027887,
     "end_time": "2023-03-31T10:34:09.438554",
     "exception": false,
     "start_time": "2023-03-31T10:34:09.410667",
     "status": "completed"
    },
    "tags": []
   },
   "outputs": [
    {
     "data": {
      "text/html": [
       "<div>\n",
       "<style scoped>\n",
       "    .dataframe tbody tr th:only-of-type {\n",
       "        vertical-align: middle;\n",
       "    }\n",
       "\n",
       "    .dataframe tbody tr th {\n",
       "        vertical-align: top;\n",
       "    }\n",
       "\n",
       "    .dataframe thead th {\n",
       "        text-align: right;\n",
       "    }\n",
       "</style>\n",
       "<table border=\"1\" class=\"dataframe\">\n",
       "  <thead>\n",
       "    <tr style=\"text-align: right;\">\n",
       "      <th></th>\n",
       "      <th>overall</th>\n",
       "      <th>potential</th>\n",
       "      <th>wage_eur</th>\n",
       "      <th>value_eur</th>\n",
       "      <th>age</th>\n",
       "    </tr>\n",
       "  </thead>\n",
       "  <tbody>\n",
       "    <tr>\n",
       "      <th>0</th>\n",
       "      <td>10.000000</td>\n",
       "      <td>9.608696</td>\n",
       "      <td>9.227468</td>\n",
       "      <td>4.618307</td>\n",
       "      <td>7.000000</td>\n",
       "    </tr>\n",
       "    <tr>\n",
       "      <th>1</th>\n",
       "      <td>9.804348</td>\n",
       "      <td>9.413043</td>\n",
       "      <td>7.939914</td>\n",
       "      <td>6.543654</td>\n",
       "      <td>6.333333</td>\n",
       "    </tr>\n",
       "    <tr>\n",
       "      <th>2</th>\n",
       "      <td>9.608696</td>\n",
       "      <td>9.217391</td>\n",
       "      <td>7.939914</td>\n",
       "      <td>3.087308</td>\n",
       "      <td>7.666667</td>\n",
       "    </tr>\n",
       "    <tr>\n",
       "      <th>3</th>\n",
       "      <td>9.608696</td>\n",
       "      <td>9.217391</td>\n",
       "      <td>7.939914</td>\n",
       "      <td>6.984396</td>\n",
       "      <td>5.333333</td>\n",
       "    </tr>\n",
       "    <tr>\n",
       "      <th>4</th>\n",
       "      <td>9.608696</td>\n",
       "      <td>9.217391</td>\n",
       "      <td>10.000000</td>\n",
       "      <td>6.822018</td>\n",
       "      <td>5.666667</td>\n",
       "    </tr>\n",
       "  </tbody>\n",
       "</table>\n",
       "</div>"
      ],
      "text/plain": [
       "     overall  potential   wage_eur  value_eur       age\n",
       "0  10.000000   9.608696   9.227468   4.618307  7.000000\n",
       "1   9.804348   9.413043   7.939914   6.543654  6.333333\n",
       "2   9.608696   9.217391   7.939914   3.087308  7.666667\n",
       "3   9.608696   9.217391   7.939914   6.984396  5.333333\n",
       "4   9.608696   9.217391  10.000000   6.822018  5.666667"
      ]
     },
     "execution_count": 12,
     "metadata": {},
     "output_type": "execute_result"
    }
   ],
   "source": [
    "data.head()"
   ]
  },
  {
   "cell_type": "code",
   "execution_count": 13,
   "id": "f6eab23c",
   "metadata": {
    "execution": {
     "iopub.execute_input": "2023-03-31T10:34:09.459738Z",
     "iopub.status.busy": "2023-03-31T10:34:09.459309Z",
     "iopub.status.idle": "2023-03-31T10:34:09.466169Z",
     "shell.execute_reply": "2023-03-31T10:34:09.464550Z"
    },
    "papermill": {
     "duration": 0.020593,
     "end_time": "2023-03-31T10:34:09.468833",
     "exception": false,
     "start_time": "2023-03-31T10:34:09.448240",
     "status": "completed"
    },
    "tags": []
   },
   "outputs": [],
   "source": [
    "def random_centroids(data, k):\n",
    "    centroids = []\n",
    "    for i in range(k):\n",
    "        centroid = data.apply(lambda x: float(x.sample()))\n",
    "        centroids.append(centroid)\n",
    "    return pd.concat(centroids, axis=1)"
   ]
  },
  {
   "cell_type": "code",
   "execution_count": 14,
   "id": "023547d2",
   "metadata": {
    "execution": {
     "iopub.execute_input": "2023-03-31T10:34:09.489134Z",
     "iopub.status.busy": "2023-03-31T10:34:09.487898Z",
     "iopub.status.idle": "2023-03-31T10:34:09.516092Z",
     "shell.execute_reply": "2023-03-31T10:34:09.514836Z"
    },
    "papermill": {
     "duration": 0.041328,
     "end_time": "2023-03-31T10:34:09.519061",
     "exception": false,
     "start_time": "2023-03-31T10:34:09.477733",
     "status": "completed"
    },
    "tags": []
   },
   "outputs": [],
   "source": [
    "centroids = random_centroids(data,5)"
   ]
  },
  {
   "cell_type": "code",
   "execution_count": 15,
   "id": "6e8047d7",
   "metadata": {
    "execution": {
     "iopub.execute_input": "2023-03-31T10:34:09.538914Z",
     "iopub.status.busy": "2023-03-31T10:34:09.538466Z",
     "iopub.status.idle": "2023-03-31T10:34:09.544899Z",
     "shell.execute_reply": "2023-03-31T10:34:09.543487Z"
    },
    "papermill": {
     "duration": 0.019461,
     "end_time": "2023-03-31T10:34:09.547599",
     "exception": false,
     "start_time": "2023-03-31T10:34:09.528138",
     "status": "completed"
    },
    "tags": []
   },
   "outputs": [],
   "source": [
    "def get_labels(data, centroids):\n",
    "    distances = centroids.apply(lambda x: np.sqrt(((data - x) ** 2).sum(axis=1)))\n",
    "    return distances.idxmin(axis=1)\n",
    "\n",
    "\n"
   ]
  },
  {
   "cell_type": "code",
   "execution_count": 16,
   "id": "1ccfd588",
   "metadata": {
    "execution": {
     "iopub.execute_input": "2023-03-31T10:34:09.567264Z",
     "iopub.status.busy": "2023-03-31T10:34:09.566816Z",
     "iopub.status.idle": "2023-03-31T10:34:09.608779Z",
     "shell.execute_reply": "2023-03-31T10:34:09.607637Z"
    },
    "papermill": {
     "duration": 0.054769,
     "end_time": "2023-03-31T10:34:09.611386",
     "exception": false,
     "start_time": "2023-03-31T10:34:09.556617",
     "status": "completed"
    },
    "tags": []
   },
   "outputs": [
    {
     "data": {
      "text/plain": [
       "0        4\n",
       "1        4\n",
       "2        4\n",
       "3        4\n",
       "4        4\n",
       "        ..\n",
       "19234    0\n",
       "19235    0\n",
       "19236    0\n",
       "19237    0\n",
       "19238    0\n",
       "Length: 19165, dtype: int64"
      ]
     },
     "execution_count": 16,
     "metadata": {},
     "output_type": "execute_result"
    }
   ],
   "source": [
    "labels = get_labels(data,centroids)\n",
    "labels"
   ]
  },
  {
   "cell_type": "code",
   "execution_count": 17,
   "id": "b5d00c62",
   "metadata": {
    "execution": {
     "iopub.execute_input": "2023-03-31T10:34:09.632284Z",
     "iopub.status.busy": "2023-03-31T10:34:09.631651Z",
     "iopub.status.idle": "2023-03-31T10:34:09.641600Z",
     "shell.execute_reply": "2023-03-31T10:34:09.640301Z"
    },
    "papermill": {
     "duration": 0.023397,
     "end_time": "2023-03-31T10:34:09.644181",
     "exception": false,
     "start_time": "2023-03-31T10:34:09.620784",
     "status": "completed"
    },
    "tags": []
   },
   "outputs": [
    {
     "data": {
      "text/plain": [
       "0    8541\n",
       "1    8214\n",
       "3    1562\n",
       "2     657\n",
       "4     191\n",
       "dtype: int64"
      ]
     },
     "execution_count": 17,
     "metadata": {},
     "output_type": "execute_result"
    }
   ],
   "source": [
    " labels.value_counts()"
   ]
  },
  {
   "cell_type": "code",
   "execution_count": 18,
   "id": "4774a39f",
   "metadata": {
    "execution": {
     "iopub.execute_input": "2023-03-31T10:34:09.665885Z",
     "iopub.status.busy": "2023-03-31T10:34:09.665405Z",
     "iopub.status.idle": "2023-03-31T10:34:09.672062Z",
     "shell.execute_reply": "2023-03-31T10:34:09.670566Z"
    },
    "papermill": {
     "duration": 0.020486,
     "end_time": "2023-03-31T10:34:09.674661",
     "exception": false,
     "start_time": "2023-03-31T10:34:09.654175",
     "status": "completed"
    },
    "tags": []
   },
   "outputs": [],
   "source": [
    "def new_centroids(data, labels, k):\n",
    "    centroids = data.groupby(labels).apply(lambda x: np.exp(np.log(x).mean())).T\n",
    "    return centroids"
   ]
  },
  {
   "cell_type": "code",
   "execution_count": 19,
   "id": "8b499f78",
   "metadata": {
    "execution": {
     "iopub.execute_input": "2023-03-31T10:34:09.694966Z",
     "iopub.status.busy": "2023-03-31T10:34:09.694534Z",
     "iopub.status.idle": "2023-03-31T10:34:11.089767Z",
     "shell.execute_reply": "2023-03-31T10:34:11.088486Z"
    },
    "papermill": {
     "duration": 1.409204,
     "end_time": "2023-03-31T10:34:11.092971",
     "exception": false,
     "start_time": "2023-03-31T10:34:09.683767",
     "status": "completed"
    },
    "tags": []
   },
   "outputs": [],
   "source": [
    "from sklearn.decomposition import PCA\n",
    "import matplotlib.pyplot as plt\n",
    "from IPython.display import clear_output"
   ]
  },
  {
   "cell_type": "code",
   "execution_count": 20,
   "id": "b8cd98da",
   "metadata": {
    "execution": {
     "iopub.execute_input": "2023-03-31T10:34:11.113367Z",
     "iopub.status.busy": "2023-03-31T10:34:11.112896Z",
     "iopub.status.idle": "2023-03-31T10:34:11.119988Z",
     "shell.execute_reply": "2023-03-31T10:34:11.118992Z"
    },
    "papermill": {
     "duration": 0.019976,
     "end_time": "2023-03-31T10:34:11.122277",
     "exception": false,
     "start_time": "2023-03-31T10:34:11.102301",
     "status": "completed"
    },
    "tags": []
   },
   "outputs": [],
   "source": [
    "def plot_clusters(data, labels, centroids, iteration):\n",
    "    pca = PCA(n_components=2)\n",
    "    data_2d = pca.fit_transform(data)\n",
    "    centroids_2d = pca.transform(centroids.T)\n",
    "    clear_output(wait=True)\n",
    "    plt.title(f'Iteration {iteration}')\n",
    "    plt.scatter(x=data_2d[:,0], y=data_2d[:,1], c=labels)\n",
    "    plt.scatter(x=centroids_2d[:,0], y=centroids_2d[:,1])\n",
    "    plt.show()\n",
    "    "
   ]
  },
  {
   "cell_type": "code",
   "execution_count": 21,
   "id": "4033a99f",
   "metadata": {
    "execution": {
     "iopub.execute_input": "2023-03-31T10:34:11.142834Z",
     "iopub.status.busy": "2023-03-31T10:34:11.142393Z",
     "iopub.status.idle": "2023-03-31T10:34:28.285426Z",
     "shell.execute_reply": "2023-03-31T10:34:28.283930Z"
    },
    "papermill": {
     "duration": 17.156891,
     "end_time": "2023-03-31T10:34:28.288695",
     "exception": false,
     "start_time": "2023-03-31T10:34:11.131804",
     "status": "completed"
    },
    "tags": []
   },
   "outputs": [
    {
     "data": {
      "image/png": "[encoded data removed]",
      "text/plain": [
       "<Figure size 640x480 with 1 Axes>"
      ]
     },
     "metadata": {},
     "output_type": "display_data"
    }
   ],
   "source": [
    "max_iterations = 100\n",
    "centroid_count = 3\n",
    "\n",
    "centroids = random_centroids(data, centroid_count)\n",
    "old_centroids = pd.DataFrame()\n",
    "iteration = 1\n",
    "\n",
    "while iteration < max_iterations and not centroids.equals(old_centroids):\n",
    "    old_centroids = centroids\n",
    "    \n",
    "    labels = get_labels(data, centroids)\n",
    "    centroids = new_centroids(data, labels, centroid_count)\n",
    "    plot_clusters(data, labels, centroids, iteration)\n",
    "    iteration += 1\n",
    "    "
   ]
  },
  {
   "cell_type": "code",
   "execution_count": 22,
   "id": "ed04fa24",
   "metadata": {
    "execution": {
     "iopub.execute_input": "2023-03-31T10:34:28.312051Z",
     "iopub.status.busy": "2023-03-31T10:34:28.311564Z",
     "iopub.status.idle": "2023-03-31T10:34:28.325107Z",
     "shell.execute_reply": "2023-03-31T10:34:28.323787Z"
    },
    "papermill": {
     "duration": 0.028317,
     "end_time": "2023-03-31T10:34:28.328058",
     "exception": false,
     "start_time": "2023-03-31T10:34:28.299741",
     "status": "completed"
    },
    "tags": []
   },
   "outputs": [
    {
     "data": {
      "text/html": [
       "<div>\n",
       "<style scoped>\n",
       "    .dataframe tbody tr th:only-of-type {\n",
       "        vertical-align: middle;\n",
       "    }\n",
       "\n",
       "    .dataframe tbody tr th {\n",
       "        vertical-align: top;\n",
       "    }\n",
       "\n",
       "    .dataframe thead th {\n",
       "        text-align: right;\n",
       "    }\n",
       "</style>\n",
       "<table border=\"1\" class=\"dataframe\">\n",
       "  <thead>\n",
       "    <tr style=\"text-align: right;\">\n",
       "      <th></th>\n",
       "      <th>0</th>\n",
       "      <th>1</th>\n",
       "      <th>2</th>\n",
       "    </tr>\n",
       "  </thead>\n",
       "  <tbody>\n",
       "    <tr>\n",
       "      <th>overall</th>\n",
       "      <td>4.781960</td>\n",
       "      <td>3.205672</td>\n",
       "      <td>5.807503</td>\n",
       "    </tr>\n",
       "    <tr>\n",
       "      <th>potential</th>\n",
       "      <td>4.506813</td>\n",
       "      <td>4.930905</td>\n",
       "      <td>6.497870</td>\n",
       "    </tr>\n",
       "    <tr>\n",
       "      <th>wage_eur</th>\n",
       "      <td>1.118498</td>\n",
       "      <td>1.028564</td>\n",
       "      <td>1.420500</td>\n",
       "    </tr>\n",
       "    <tr>\n",
       "      <th>value_eur</th>\n",
       "      <td>1.044909</td>\n",
       "      <td>1.026655</td>\n",
       "      <td>1.285685</td>\n",
       "    </tr>\n",
       "    <tr>\n",
       "      <th>age</th>\n",
       "      <td>5.467648</td>\n",
       "      <td>2.514741</td>\n",
       "      <td>3.598215</td>\n",
       "    </tr>\n",
       "  </tbody>\n",
       "</table>\n",
       "</div>"
      ],
      "text/plain": [
       "                  0         1         2\n",
       "overall    4.781960  3.205672  5.807503\n",
       "potential  4.506813  4.930905  6.497870\n",
       "wage_eur   1.118498  1.028564  1.420500\n",
       "value_eur  1.044909  1.026655  1.285685\n",
       "age        5.467648  2.514741  3.598215"
      ]
     },
     "execution_count": 22,
     "metadata": {},
     "output_type": "execute_result"
    }
   ],
   "source": [
    "centroids"
   ]
  },
  {
   "cell_type": "code",
   "execution_count": 23,
   "id": "6edd1d0b",
   "metadata": {
    "execution": {
     "iopub.execute_input": "2023-03-31T10:34:28.353474Z",
     "iopub.status.busy": "2023-03-31T10:34:28.351794Z",
     "iopub.status.idle": "2023-03-31T10:34:28.597291Z",
     "shell.execute_reply": "2023-03-31T10:34:28.595995Z"
    },
    "papermill": {
     "duration": 0.261226,
     "end_time": "2023-03-31T10:34:28.600302",
     "exception": false,
     "start_time": "2023-03-31T10:34:28.339076",
     "status": "completed"
    },
    "tags": []
   },
   "outputs": [],
   "source": [
    "from sklearn.cluster import KMeans\n"
   ]
  },
  {
   "cell_type": "code",
   "execution_count": 24,
   "id": "a42bfd37",
   "metadata": {
    "execution": {
     "iopub.execute_input": "2023-03-31T10:34:28.623765Z",
     "iopub.status.busy": "2023-03-31T10:34:28.623314Z",
     "iopub.status.idle": "2023-03-31T10:34:30.173244Z",
     "shell.execute_reply": "2023-03-31T10:34:30.171694Z"
    },
    "papermill": {
     "duration": 1.565025,
     "end_time": "2023-03-31T10:34:30.176198",
     "exception": false,
     "start_time": "2023-03-31T10:34:28.611173",
     "status": "completed"
    },
    "tags": []
   },
   "outputs": [
    {
     "data": {
      "text/plain": [
       "KMeans(n_clusters=3)"
      ]
     },
     "execution_count": 24,
     "metadata": {},
     "output_type": "execute_result"
    }
   ],
   "source": [
    "kmeans = KMeans(3)\n",
    "kmeans.fit(data)\n"
   ]
  },
  {
   "cell_type": "code",
   "execution_count": 25,
   "id": "3ae04a93",
   "metadata": {
    "execution": {
     "iopub.execute_input": "2023-03-31T10:34:30.200553Z",
     "iopub.status.busy": "2023-03-31T10:34:30.200129Z",
     "iopub.status.idle": "2023-03-31T10:34:30.205378Z",
     "shell.execute_reply": "2023-03-31T10:34:30.204040Z"
    },
    "papermill": {
     "duration": 0.020923,
     "end_time": "2023-03-31T10:34:30.208095",
     "exception": false,
     "start_time": "2023-03-31T10:34:30.187172",
     "status": "completed"
    },
    "tags": []
   },
   "outputs": [],
   "source": [
    "skcentroids = kmeans.cluster_centers_"
   ]
  },
  {
   "cell_type": "code",
   "execution_count": 26,
   "id": "ffed2d2f",
   "metadata": {
    "execution": {
     "iopub.execute_input": "2023-03-31T10:34:30.231250Z",
     "iopub.status.busy": "2023-03-31T10:34:30.230805Z",
     "iopub.status.idle": "2023-03-31T10:34:30.244382Z",
     "shell.execute_reply": "2023-03-31T10:34:30.243318Z"
    },
    "papermill": {
     "duration": 0.027852,
     "end_time": "2023-03-31T10:34:30.246547",
     "exception": false,
     "start_time": "2023-03-31T10:34:30.218695",
     "status": "completed"
    },
    "tags": []
   },
   "outputs": [
    {
     "data": {
      "text/html": [
       "<div>\n",
       "<style scoped>\n",
       "    .dataframe tbody tr th:only-of-type {\n",
       "        vertical-align: middle;\n",
       "    }\n",
       "\n",
       "    .dataframe tbody tr th {\n",
       "        vertical-align: top;\n",
       "    }\n",
       "\n",
       "    .dataframe thead th {\n",
       "        text-align: right;\n",
       "    }\n",
       "</style>\n",
       "<table border=\"1\" class=\"dataframe\">\n",
       "  <thead>\n",
       "    <tr style=\"text-align: right;\">\n",
       "      <th></th>\n",
       "      <th>0</th>\n",
       "      <th>1</th>\n",
       "      <th>2</th>\n",
       "    </tr>\n",
       "  </thead>\n",
       "  <tbody>\n",
       "    <tr>\n",
       "      <th>overall</th>\n",
       "      <td>4.799179</td>\n",
       "      <td>3.590895</td>\n",
       "      <td>6.216305</td>\n",
       "    </tr>\n",
       "    <tr>\n",
       "      <th>potential</th>\n",
       "      <td>4.501419</td>\n",
       "      <td>5.201760</td>\n",
       "      <td>6.612035</td>\n",
       "    </tr>\n",
       "    <tr>\n",
       "      <th>wage_eur</th>\n",
       "      <td>1.112652</td>\n",
       "      <td>1.039555</td>\n",
       "      <td>1.649932</td>\n",
       "    </tr>\n",
       "    <tr>\n",
       "      <th>value_eur</th>\n",
       "      <td>1.039887</td>\n",
       "      <td>1.035473</td>\n",
       "      <td>1.409247</td>\n",
       "    </tr>\n",
       "    <tr>\n",
       "      <th>age</th>\n",
       "      <td>5.612221</td>\n",
       "      <td>2.708414</td>\n",
       "      <td>4.132840</td>\n",
       "    </tr>\n",
       "  </tbody>\n",
       "</table>\n",
       "</div>"
      ],
      "text/plain": [
       "                  0         1         2\n",
       "overall    4.799179  3.590895  6.216305\n",
       "potential  4.501419  5.201760  6.612035\n",
       "wage_eur   1.112652  1.039555  1.649932\n",
       "value_eur  1.039887  1.035473  1.409247\n",
       "age        5.612221  2.708414  4.132840"
      ]
     },
     "execution_count": 26,
     "metadata": {},
     "output_type": "execute_result"
    }
   ],
   "source": [
    "pd.DataFrame(skcentroids,columns=features).T"
   ]
  },
  {
   "cell_type": "code",
   "execution_count": 27,
   "id": "482483f3",
   "metadata": {
    "execution": {
     "iopub.execute_input": "2023-03-31T10:34:30.270505Z",
     "iopub.status.busy": "2023-03-31T10:34:30.269702Z",
     "iopub.status.idle": "2023-03-31T10:34:30.282998Z",
     "shell.execute_reply": "2023-03-31T10:34:30.282040Z"
    },
    "papermill": {
     "duration": 0.02804,
     "end_time": "2023-03-31T10:34:30.285455",
     "exception": false,
     "start_time": "2023-03-31T10:34:30.257415",
     "status": "completed"
    },
    "tags": []
   },
   "outputs": [
    {
     "data": {
      "text/html": [
       "<div>\n",
       "<style scoped>\n",
       "    .dataframe tbody tr th:only-of-type {\n",
       "        vertical-align: middle;\n",
       "    }\n",
       "\n",
       "    .dataframe tbody tr th {\n",
       "        vertical-align: top;\n",
       "    }\n",
       "\n",
       "    .dataframe thead th {\n",
       "        text-align: right;\n",
       "    }\n",
       "</style>\n",
       "<table border=\"1\" class=\"dataframe\">\n",
       "  <thead>\n",
       "    <tr style=\"text-align: right;\">\n",
       "      <th></th>\n",
       "      <th>0</th>\n",
       "      <th>1</th>\n",
       "      <th>2</th>\n",
       "    </tr>\n",
       "  </thead>\n",
       "  <tbody>\n",
       "    <tr>\n",
       "      <th>overall</th>\n",
       "      <td>4.781960</td>\n",
       "      <td>3.205672</td>\n",
       "      <td>5.807503</td>\n",
       "    </tr>\n",
       "    <tr>\n",
       "      <th>potential</th>\n",
       "      <td>4.506813</td>\n",
       "      <td>4.930905</td>\n",
       "      <td>6.497870</td>\n",
       "    </tr>\n",
       "    <tr>\n",
       "      <th>wage_eur</th>\n",
       "      <td>1.118498</td>\n",
       "      <td>1.028564</td>\n",
       "      <td>1.420500</td>\n",
       "    </tr>\n",
       "    <tr>\n",
       "      <th>value_eur</th>\n",
       "      <td>1.044909</td>\n",
       "      <td>1.026655</td>\n",
       "      <td>1.285685</td>\n",
       "    </tr>\n",
       "    <tr>\n",
       "      <th>age</th>\n",
       "      <td>5.467648</td>\n",
       "      <td>2.514741</td>\n",
       "      <td>3.598215</td>\n",
       "    </tr>\n",
       "  </tbody>\n",
       "</table>\n",
       "</div>"
      ],
      "text/plain": [
       "                  0         1         2\n",
       "overall    4.781960  3.205672  5.807503\n",
       "potential  4.506813  4.930905  6.497870\n",
       "wage_eur   1.118498  1.028564  1.420500\n",
       "value_eur  1.044909  1.026655  1.285685\n",
       "age        5.467648  2.514741  3.598215"
      ]
     },
     "execution_count": 27,
     "metadata": {},
     "output_type": "execute_result"
    }
   ],
   "source": [
    "centroids"
   ]
  },
  {
   "cell_type": "code",
   "execution_count": null,
   "id": "e39d0bf8",
   "metadata": {
    "papermill": {
     "duration": 0.011401,
     "end_time": "2023-03-31T10:34:30.307816",
     "exception": false,
     "start_time": "2023-03-31T10:34:30.296415",
     "status": "completed"
    },
    "tags": []
   },
   "outputs": [],
   "source": []
  }
 ],
 "metadata": {
  "kernelspec": {
   "display_name": "Python 3",
   "language": "python",
   "name": "python3"
  },
  "language_info": {
   "codemirror_mode": {
    "name": "ipython",
    "version": 3
   },
   "file_extension": ".py",
   "mimetype": "text/x-python",
   "name": "python",
   "nbconvert_exporter": "python",
   "pygments_lexer": "ipython3",
   "version": "3.7.12"
  },
  "papermill": {
   "default_parameters": {},
   "duration": 33.498981,
   "end_time": "2023-03-31T10:34:31.142410",
   "environment_variables": {},
   "exception": null,
   "input_path": "__notebook__.ipynb",
   "output_path": "__notebook__.ipynb",
   "parameters": {},
   "start_time": "2023-03-31T10:33:57.643429",
   "version": "2.4.0"
  }
 },
 "nbformat": 4,
 "nbformat_minor": 5
}
